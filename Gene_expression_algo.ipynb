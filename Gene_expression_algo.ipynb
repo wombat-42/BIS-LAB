{
  "nbformat": 4,
  "nbformat_minor": 0,
  "metadata": {
    "colab": {
      "provenance": [],
      "include_colab_link": true
    },
    "kernelspec": {
      "name": "python3",
      "display_name": "Python 3"
    },
    "language_info": {
      "name": "python"
    }
  },
  "cells": [
    {
      "cell_type": "markdown",
      "metadata": {
        "id": "view-in-github",
        "colab_type": "text"
      },
      "source": [
        "<a href=\"https://colab.research.google.com/github/wombat-42/BIS-LAB/blob/main/Gene_expression_algo.ipynb\" target=\"_parent\"><img src=\"https://colab.research.google.com/assets/colab-badge.svg\" alt=\"Open In Colab\"/></a>"
      ]
    },
    {
      "cell_type": "code",
      "execution_count": null,
      "metadata": {
        "id": "BVnDETOFLh-i",
        "outputId": "930eb459-4176-4da0-b8a5-ac0c2ce3012e",
        "colab": {
          "base_uri": "https://localhost:8080/"
        }
      },
      "outputs": [
        {
          "output_type": "stream",
          "name": "stdout",
          "text": [
            "Differentially Expressed Genes:\n",
            "      Gene  t-statistic   p-value\n",
            "0   Gene 1     0.178717  0.860156\n",
            "1   Gene 2     0.178717  0.860156\n",
            "2   Gene 3     0.178717  0.860156\n",
            "3   Gene 4     0.178717  0.860156\n",
            "4   Gene 5     0.178717  0.860156\n",
            "5   Gene 6     0.178717  0.860156\n",
            "6   Gene 7     0.178717  0.860156\n",
            "7   Gene 8     0.178717  0.860156\n",
            "8   Gene 9     0.178717  0.860156\n",
            "9  Gene 10     0.178717  0.860156\n",
            "\n",
            "Gene Clusters:\n",
            "Cluster 1: Sample 3\n",
            "Cluster 2: Sample 4\n",
            "Cluster 3: Sample 1, Sample 2, Sample 5\n",
            "\n",
            "Gene Regulatory Network:\n",
            "Gene 3 -> Gene 6\n",
            "Gene 8 -> Gene 9\n",
            "Gene 10 -> Gene 1\n"
          ]
        }
      ],
      "source": [
        "import pandas as pd\n",
        "import numpy as np\n",
        "from sklearn.cluster import KMeans\n",
        "from scipy.stats import ttest_ind\n",
        "\n",
        "# Sample gene expression data\n",
        "data = {\n",
        "    'Gene': ['Gene 1', 'Gene 2', 'Gene 3', 'Gene 4', 'Gene 5', 'Gene 6', 'Gene 7', 'Gene 8', 'Gene 9', 'Gene 10'],\n",
        "    'Sample 1': [10.2, 8.5, 12.8, 9.1, 11.4, 8.8, 10.5, 12.2, 9.3, 11.1],\n",
        "    'Sample 2': [12.1, 9.2, 11.5, 10.3, 10.8, 9.5, 11.2, 11.1, 10.1, 10.4],\n",
        "    'Sample 3': [9.5, 7.8, 13.2, 8.4, 12.1, 8.1, 9.8, 13.5, 8.6, 12.3],\n",
        "    'Sample 4': [11.8, 8.1, 12.1, 9.6, 11.2, 8.4, 10.9, 11.8, 9.4, 11.0],\n",
        "    'Sample 5': [10.5, 8.8, 11.9, 9.8, 10.9, 9.1, 10.2, 11.4, 9.7, 10.6]\n",
        "}\n",
        "\n",
        "df = pd.DataFrame(data).set_index('Gene')\n",
        "\n",
        "# Differential expression analysis\n",
        "def differential_expression(df, sample1, sample2):\n",
        "    sample1_data = df[sample1]\n",
        "    sample2_data = df[sample2]\n",
        "    t_stat, p_val = ttest_ind(sample1_data, sample2_data)\n",
        "    return t_stat, p_val\n",
        "\n",
        "diff_expr_results = []\n",
        "for gene in df.index:\n",
        "    t_stat, p_val = differential_expression(df, 'Sample 1', 'Sample 5')\n",
        "    diff_expr_results.append((gene, t_stat, p_val))\n",
        "\n",
        "diff_expr_df = pd.DataFrame(diff_expr_results, columns=['Gene', 't-statistic', 'p-value'])\n",
        "print(\"Differentially Expressed Genes:\")\n",
        "print(diff_expr_df.sort_values(by='p-value'))\n",
        "\n",
        "# Gene clustering\n",
        "kmeans = KMeans(n_clusters=3)\n",
        "kmeans.fit(df.T)\n",
        "labels = kmeans.labels_\n",
        "print(\"\\nGene Clusters:\")\n",
        "for i in range(3):\n",
        "    print(f\"Cluster {i+1}: {', '.join(df.T.index[labels == i])}\")\n",
        "\n",
        "# Gene regulatory network (simple example)\n",
        "regulatory_network = {\n",
        "    'Gene 3': ['Gene 6'],\n",
        "    'Gene 8': ['Gene 9'],\n",
        "    'Gene 10': ['Gene 1']\n",
        "}\n",
        "print(\"\\nGene Regulatory Network:\")\n",
        "for gene, targets in regulatory_network.items():\n",
        "    print(f\"{gene} -> {', '.join(targets)}\")"
      ]
    },
    {
      "cell_type": "code",
      "source": [],
      "metadata": {
        "id": "G13SJnCELjTC"
      },
      "execution_count": null,
      "outputs": []
    }
  ]
}